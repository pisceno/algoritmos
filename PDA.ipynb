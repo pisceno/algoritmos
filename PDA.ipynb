{
  "nbformat": 4,
  "nbformat_minor": 0,
  "metadata": {
    "colab": {
      "provenance": [],
      "authorship_tag": "ABX9TyOg9yKhwTV1QCc/CmnW23QM",
      "include_colab_link": true
    },
    "kernelspec": {
      "name": "python3",
      "display_name": "Python 3"
    },
    "language_info": {
      "name": "python"
    }
  },
  "cells": [
    {
      "cell_type": "markdown",
      "metadata": {
        "id": "view-in-github",
        "colab_type": "text"
      },
      "source": [
        "<a href=\"https://colab.research.google.com/github/pisceno/algoritmos/blob/master/PDA.ipynb\" target=\"_parent\"><img src=\"https://colab.research.google.com/assets/colab-badge.svg\" alt=\"Open In Colab\"/></a>"
      ]
    },
    {
      "cell_type": "code",
      "execution_count": null,
      "metadata": {
        "colab": {
          "base_uri": "https://localhost:8080/"
        },
        "id": "Z_RMBWyK5x1d",
        "outputId": "15ca857e-9808-4774-e255-1d16cca31f32"
      },
      "outputs": [
        {
          "output_type": "stream",
          "name": "stdout",
          "text": [
            "La cadena 'aabb' es aceptada.\n",
            "La cadena 'aaabbb' es aceptada.\n",
            "La cadena 'aab' no es aceptada.\n",
            "La cadena 'aabbb' no es aceptada.\n",
            "La cadena 'abab' es aceptada.\n"
          ]
        }
      ],
      "source": [
        "class PDA:\n",
        "    def __init__(self):\n",
        "        self.stack = ['Z']\n",
        "        self.state = 'q0'\n",
        "\n",
        "    def transition(self, char):\n",
        "        if self.state == 'q0':\n",
        "            if char == 'a':\n",
        "                self.stack.append('a')\n",
        "            elif char == 'b':\n",
        "                if self.stack[-1] == 'a':\n",
        "                    self.stack.pop()\n",
        "                else:\n",
        "                    self.state = 'rejected'\n",
        "\n",
        "    def is_accepted(self):\n",
        "        return self.state == 'q0' and self.stack == ['Z']\n",
        "\n",
        "# Función para probar el PDA con diferentes cadenas\n",
        "def test_pda(input_string):\n",
        "    pda = PDA()\n",
        "    for char in input_string:\n",
        "        pda.transition(char)\n",
        "    if pda.is_accepted():\n",
        "        print(f\"La cadena '{input_string}' es aceptada.\")\n",
        "    else:\n",
        "        print(f\"La cadena '{input_string}' no es aceptada.\")\n",
        "\n",
        "# Prueba con diferentes cadenas\n",
        "test_pda(\"aabb\")    # Cadena aceptada\n",
        "test_pda(\"aaabbb\")  # Cadena aceptada\n",
        "test_pda(\"aab\")     # Cadena no aceptada\n",
        "test_pda(\"aabbb\")   # Cadena no aceptada\n",
        "test_pda(\"abab\")    # Cadena no aceptada\n"
      ]
    }
  ]
}