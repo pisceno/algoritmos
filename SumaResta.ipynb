{
  "cells": [
    {
      "cell_type": "markdown",
      "metadata": {
        "id": "view-in-github",
        "colab_type": "text"
      },
      "source": [
        "<a href=\"https://colab.research.google.com/github/pisceno/algoritmos/blob/master/SumaResta.ipynb\" target=\"_parent\"><img src=\"https://colab.research.google.com/assets/colab-badge.svg\" alt=\"Open In Colab\"/></a>"
      ]
    },
    {
      "cell_type": "code",
      "execution_count": null,
      "metadata": {
        "colab": {
          "background_save": true,
          "base_uri": "https://localhost:8080/"
        },
        "id": "GY11tjet88C0",
        "outputId": "f9605e01-3412-4498-f8d2-b9e4ce33a136"
      },
      "outputs": [
        {
          "name": "stdout",
          "output_type": "stream",
          "text": [
            "\n",
            "Seleccione el número de la operación que desea realizar:\n",
            "1. Suma\n",
            "2. Resta\n",
            "3. Multiplicación\n",
            "4. División\n",
            "5. Salir\n",
            "Resultado: 2.0 * 3.0 = 6.0\n",
            "\n",
            "Seleccione el número de la operación que desea realizar:\n",
            "1. Suma\n",
            "2. Resta\n",
            "3. Multiplicación\n",
            "4. División\n",
            "5. Salir\n"
          ]
        }
      ],
      "source": [
        "def suma(a, b):\n",
        "    return a + b\n",
        "\n",
        "def resta(a, b):\n",
        "    return a - b\n",
        "\n",
        "def multiplicacion(a, b):\n",
        "    return a * b\n",
        "\n",
        "def division(a, b):\n",
        "    if b != 0:\n",
        "        return a / b\n",
        "    else:\n",
        "        return \"Error: División por cero no permitida\"\n",
        "\n",
        "def mostrar_menu():\n",
        "    print(\"\\nSeleccione el número de la operación que desea realizar:\")\n",
        "    print(\"1. Suma\")\n",
        "    print(\"2. Resta\")\n",
        "    print(\"3. Multiplicación\")\n",
        "    print(\"4. División\")\n",
        "    print(\"5. Salir\")\n",
        "\n",
        "# Ciclo while para repetir el menú hasta que el usuario decida salir\n",
        "while True:\n",
        "    mostrar_menu()\n",
        "    opcion = input(\"Ingrese el número de la operación deseada (1-5): \")\n",
        "\n",
        "    if opcion == '5':\n",
        "        print(\"¡Gracias por usar la calculadora! Hasta luego.\")\n",
        "        break\n",
        "\n",
        "    if opcion in ['1', '2', '3', '4']:\n",
        "        # Solicitar números al usuario\n",
        "        num1 = float(input(\"Ingrese el primer número: \"))\n",
        "        num2 = float(input(\"Ingrese el segundo número: \"))\n",
        "\n",
        "        if opcion == '1':\n",
        "            print(f\"Resultado: {num1} + {num2} = {suma(num1, num2)}\")\n",
        "        elif opcion == '2':\n",
        "            print(f\"Resultado: {num1} - {num2} = {resta(num1, num2)}\")\n",
        "        elif opcion == '3':\n",
        "            print(f\"Resultado: {num1} * {num2} = {multiplicacion(num1, num2)}\")\n",
        "        elif opcion == '4':\n",
        "            resultado = division(num1, num2)\n",
        "            print(f\"Resultado: {num1} / {num2} = {resultado}\")\n",
        "        Event().wait(5)\n",
        "\n",
        "    else:\n",
        "        print(\"Opción inválida. Por favor, ingrese una opción válida (1-5).\")\n"
      ]
    }
  ],
  "metadata": {
    "colab": {
      "provenance": [],
      "authorship_tag": "ABX9TyNSM5/Hfdw8/X7jcJjsc+UZ",
      "include_colab_link": true
    },
    "kernelspec": {
      "display_name": "Python 3",
      "name": "python3"
    },
    "language_info": {
      "name": "python"
    }
  },
  "nbformat": 4,
  "nbformat_minor": 0
}